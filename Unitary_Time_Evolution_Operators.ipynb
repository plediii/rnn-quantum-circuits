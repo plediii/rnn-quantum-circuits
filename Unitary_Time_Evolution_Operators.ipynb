{
  "nbformat": 4,
  "nbformat_minor": 0,
  "metadata": {
    "colab": {
      "name": "Unitary Time Evolution Operators",
      "provenance": [],
      "collapsed_sections": [],
      "include_colab_link": true
    },
    "kernelspec": {
      "name": "python3",
      "display_name": "Python 3"
    }
  },
  "cells": [
    {
      "cell_type": "markdown",
      "metadata": {
        "id": "view-in-github",
        "colab_type": "text"
      },
      "source": [
        "<a href=\"https://colab.research.google.com/github/plediii/rnn-quantum-circuits/blob/master/Unitary_Time_Evolution_Operators.ipynb\" target=\"_parent\"><img src=\"https://colab.research.google.com/assets/colab-badge.svg\" alt=\"Open In Colab\"/></a>"
      ]
    },
    {
      "cell_type": "markdown",
      "metadata": {
        "id": "9njYw8C084j1",
        "colab_type": "text"
      },
      "source": [
        "# Overview\n",
        "\n",
        "Here I'm going to construct variable unitary matrices parametrized from real matrices, and then optimize the the variable matrices to produce desired unitary matrices."
      ]
    },
    {
      "cell_type": "code",
      "metadata": {
        "id": "kndJS7zx_eVs",
        "colab_type": "code",
        "outputId": "44ee1dbb-9246-4068-8381-3ab19925234f",
        "colab": {
          "base_uri": "https://localhost:8080/",
          "height": 34
        }
      },
      "source": [
        "from __future__ import absolute_import, division, print_function, unicode_literals\n",
        "\n",
        "try:\n",
        "  %tensorflow_version 2.x\n",
        "except Exception:\n",
        "  print('Failed to upgrade tensorflow')\n",
        "  pass\n",
        "\n",
        "import tensorflow as tf\n",
        "\n",
        "import numpy as np\n",
        "\n",
        "print(tf.__version__)"
      ],
      "execution_count": 47,
      "outputs": [
        {
          "output_type": "stream",
          "text": [
            "2.0.0\n"
          ],
          "name": "stdout"
        }
      ]
    },
    {
      "cell_type": "markdown",
      "metadata": {
        "id": "DJ8aDw0H_mu6",
        "colab_type": "text"
      },
      "source": [
        "# Recall quantum state vectors\n",
        "\n",
        "The most important property of a unitary matrix is that it conserves the norm of our quantum state vectors. \n",
        "\n",
        "So first let's recall how to to calculate the norm of our vector, and construct a normalized quantum state vector so we can verify the unitarity of our constructed matrices.\n",
        "\n",
        "We say that the adjoint of `x` is `x*`. The square of `x` is `x* x`, and the norm of `x` is the square root of its square.\n",
        "\n",
        "These definitions can be expressed in tensorflow in the following way:"
      ]
    },
    {
      "cell_type": "code",
      "metadata": {
        "id": "Jc8JNG5R_GSa",
        "colab_type": "code",
        "colab": {}
      },
      "source": [
        "def dot(a, b):\n",
        "  \"\"\"a* b\"\"\"\n",
        "  return tf.matmul(tf.linalg.adjoint(a), b)[0][0]\n",
        "\n",
        "def norm(x):\n",
        "  \"\"\"The dot x with itself, and take the square root\"\"\"\n",
        "  return tf.sqrt(dot(x, x))\n",
        "\n",
        "def normalized(x):\n",
        "  return x / norm(x)"
      ],
      "execution_count": 0,
      "outputs": []
    },
    {
      "cell_type": "markdown",
      "metadata": {
        "id": "ssW8PbplG-g7",
        "colab_type": "text"
      },
      "source": [
        "Now, a quantum state vector is any normalized complex vector.\n",
        "\n",
        "A qbit is a 2-dimensional quantum vector."
      ]
    },
    {
      "cell_type": "code",
      "metadata": {
        "id": "bgFs-_Sd_Mey",
        "colab_type": "code",
        "outputId": "bb6eb708-a99e-425a-ef56-446a3c274071",
        "colab": {
          "base_uri": "https://localhost:8080/",
          "height": 68
        }
      },
      "source": [
        "def random_quantum_state(n):\n",
        "  \"\"\"Construct a random n-dimensonal quantum state vector\"\"\"\n",
        "  return normalized(tf.complex(tf.random.normal((n, 1)), tf.random.normal((n, 1))))\n",
        "\n",
        "qbit = random_quantum_state(2)\n",
        "print('qbit norm = ', tf.math.real(norm(qbit)).numpy())\n",
        "print('qbit = ', qbit.numpy())"
      ],
      "execution_count": 4,
      "outputs": [
        {
          "output_type": "stream",
          "text": [
            "qbit norm =  1.0\n",
            "qbit =  [[ 0.69474643-0.23535512j]\n",
            " [-0.6457317 +0.21205197j]]\n"
          ],
          "name": "stdout"
        }
      ]
    },
    {
      "cell_type": "markdown",
      "metadata": {
        "id": "B1knn4PpBL8K",
        "colab_type": "text"
      },
      "source": [
        "# What is a unitary matrix?\n",
        "\n",
        "Generally, when you mulitply an input vector by a matrix, the resulting output vector may have a different norm than the input vector.\n",
        "\n",
        "Now, suppose we want to represent time evolution of our quantum state vector with multiplication by a particular matrix. Both the input quantum state, and the output quantum state must have the same norm, `1`. \n",
        "\n",
        "Let's assume an initial state `x`, a next state in time `x'`, and a time evolution matrix `U`:\n",
        "```\n",
        "  x' = Ux\n",
        "```\n",
        "If both `x` and `x'` are quantum states, then we require their norms and squares to be `1`.\n",
        "```\n",
        "      (x')* x' == 1 \n",
        "  and  x* x    == 1\n",
        " ```\n",
        "\n",
        "This requirement constrains the possible matrices `U`. Since\n",
        "```\n",
        "  (x')* x = (Ux)* Ux \n",
        "          = x* U* U x \n",
        "          = x* x\n",
        "```\n",
        "In order for this to be true, we must have that `U* U = 1`, the identiy matrix. In other words `U*` is the inverse of `U`.\n",
        "\n",
        "How can we construct general unitary matrices? Let's start with Hermitian matrices. \n",
        "\n",
        "# Constructing a Hermitian symmetric matrix\n",
        "\n",
        "Unitary matrices are very closely related to symmetric matrices. \n",
        "\n",
        "For a unitary matrix `U`, `U* U = 1`. \n",
        "\n",
        "For Hermitian symmetric matrices, `H* = H`.\n",
        "\n",
        "Given an arbitrary matrix `M`, it's easy to construct a Hermitian matrix by adding `M` to its adjoint.\n",
        "\n",
        "Then `(M* + M)* = M + M* = M* + M`.\n",
        "\n"
      ]
    },
    {
      "cell_type": "code",
      "metadata": {
        "id": "koKKx8uobNWu",
        "colab_type": "code",
        "outputId": "1a8f607f-5f22-417d-9c6f-ab2cb3d7c805",
        "colab": {
          "base_uri": "https://localhost:8080/",
          "height": 68
        }
      },
      "source": [
        "M = tf.complex(tf.random.uniform((2, 2)), tf.random.uniform((2, 2)))\n",
        "M"
      ],
      "execution_count": 5,
      "outputs": [
        {
          "output_type": "execute_result",
          "data": {
            "text/plain": [
              "<tf.Tensor: id=53, shape=(2, 2), dtype=complex64, numpy=\n",
              "array([[0.77460563+0.68357384j, 0.69898   +0.48072052j],\n",
              "       [0.20853305+0.4314425j , 0.07056069+0.5087286j ]], dtype=complex64)>"
            ]
          },
          "metadata": {
            "tags": []
          },
          "execution_count": 5
        }
      ]
    },
    {
      "cell_type": "code",
      "metadata": {
        "id": "N36asZlgbVTV",
        "colab_type": "code",
        "outputId": "e048221d-9be3-4d5f-ff33-7f7efd54d6de",
        "colab": {
          "base_uri": "https://localhost:8080/",
          "height": 68
        }
      },
      "source": [
        "H = M + tf.linalg.adjoint(M)\n",
        "H"
      ],
      "execution_count": 6,
      "outputs": [
        {
          "output_type": "execute_result",
          "data": {
            "text/plain": [
              "<tf.Tensor: id=56, shape=(2, 2), dtype=complex64, numpy=\n",
              "array([[1.5492113 +0.j        , 0.907513  +0.04927802j],\n",
              "       [0.907513  -0.04927802j, 0.14112139+0.j        ]], dtype=complex64)>"
            ]
          },
          "metadata": {
            "tags": []
          },
          "execution_count": 6
        }
      ]
    },
    {
      "cell_type": "code",
      "metadata": {
        "id": "AamA0wMObZcL",
        "colab_type": "code",
        "outputId": "525bcbdb-e835-49a1-80f3-9724b9fd1bd5",
        "colab": {
          "base_uri": "https://localhost:8080/",
          "height": 34
        }
      },
      "source": [
        "tf.reduce_all(tf.linalg.adjoint(H) == H).numpy()"
      ],
      "execution_count": 7,
      "outputs": [
        {
          "output_type": "execute_result",
          "data": {
            "text/plain": [
              "True"
            ]
          },
          "metadata": {
            "tags": []
          },
          "execution_count": 7
        }
      ]
    },
    {
      "cell_type": "markdown",
      "metadata": {
        "id": "GZVGmYmebqhz",
        "colab_type": "text"
      },
      "source": [
        "# Constructing a Unitary Matrix\n",
        "\n",
        "Unitary matrices have an interesting relationship with Hermitian matrices.\n",
        "It turns out that any unitary matrix can be expressed as an exponential of a Hermitian matrix!\n",
        "\n",
        "That is, we can define an analog of exponentiation operation, which, when applied to matrices satisfies the following identities:\n",
        "* `exp{M*} = (exp{M})*`\n",
        "* `exp{-M}exp{M} = 1`.\n",
        "\n",
        "Then, given a Hermitian matrix `H`, we can create a unitary matrix as:\n",
        "```\n",
        "U = exp{iH}.\n",
        "```\n",
        "Then, we can verify the unitarity of our constructed matrix:\n",
        "```\n",
        "U* U = (exp{iH})* exp{iH}\n",
        "     = exp{(iH)*} exp{iH}\n",
        "     = exp{-iH} exp{iH} \n",
        "     = 1.\n",
        "```\n",
        "\n",
        "What's more, Tensorflow provides a fast function for computing matrix exponentials.\n",
        "\n",
        "This approximation yields a numerically approximate unitary matrix, conserving the norm of our qbit states."
      ]
    },
    {
      "cell_type": "code",
      "metadata": {
        "id": "6yQ_1iMLdyNa",
        "colab_type": "code",
        "colab": {}
      },
      "source": [
        "U = tf.linalg.expm(tf.complex(0., 1.) * H)"
      ],
      "execution_count": 0,
      "outputs": []
    },
    {
      "cell_type": "code",
      "metadata": {
        "id": "BUU8GbDkeTzF",
        "colab_type": "code",
        "outputId": "a3c2aeab-17c3-48fc-dc2d-5a48b29d0303",
        "colab": {
          "base_uri": "https://localhost:8080/",
          "height": 34
        }
      },
      "source": [
        "tf.math.real(norm(tf.matmul(U, qbit))).numpy()"
      ],
      "execution_count": 9,
      "outputs": [
        {
          "output_type": "execute_result",
          "data": {
            "text/plain": [
              "1.0"
            ]
          },
          "metadata": {
            "tags": []
          },
          "execution_count": 9
        }
      ]
    },
    {
      "cell_type": "code",
      "metadata": {
        "id": "e5wx5UqueCid",
        "colab_type": "code",
        "outputId": "22e68eb3-b99f-41e7-979e-91c1391af66b",
        "colab": {
          "base_uri": "https://localhost:8080/",
          "height": 68
        }
      },
      "source": [
        "U.numpy()"
      ],
      "execution_count": 10,
      "outputs": [
        {
          "output_type": "execute_result",
          "data": {
            "text/plain": [
              "array([[-0.14680567+0.67670584j, -0.5648827 +0.44880378j],\n",
              "       [-0.5129644 +0.507331j  ,  0.68938375-0.06505959j]],\n",
              "      dtype=complex64)"
            ]
          },
          "metadata": {
            "tags": []
          },
          "execution_count": 10
        }
      ]
    },
    {
      "cell_type": "markdown",
      "metadata": {
        "id": "e1bR5bXkrcR7",
        "colab_type": "text"
      },
      "source": [
        "What's more, we can definite a matrix logarithm, which inverts our matrix exponential, allowing us to move back and forth between the space of unitary and Hermitian variables. "
      ]
    },
    {
      "cell_type": "markdown",
      "metadata": {
        "id": "Fs5hjze0e5DT",
        "colab_type": "text"
      },
      "source": [
        "# Constructing a variable unitary matrix using minimal parameters\n",
        "\n",
        "In tensorflow, it's a effortless to construct a variable matrix, and, using the above path, we can transform a variable matrix into a variable unitary matrix. \n",
        "\n",
        "However, constructing a Hermitian matrix by adding a matrix to its adjoint is a bit wasteful in terms of the count of real parameters involved. Later, we'll want to compute derivatives against these parameters, so the fewer parameters we have, the less memory and time we'll need to optimize our functions.\n",
        "\n",
        "Creating a Hermitian matrix by adding a matrix to its adjoint requires `2xNxN` random numbers, two for each complex number in the original matrix. However, it turns out that only `NxN` real numbers are required.\n",
        "\n",
        "In the `2x2` case, we initially construct `8` real numbers. We can easily count `8` distinct real numbers in the initial random complex matrix."
      ]
    },
    {
      "cell_type": "code",
      "metadata": {
        "id": "TCv8OYUSs1FQ",
        "colab_type": "code",
        "outputId": "6a7729b8-d0fd-4f43-9122-dc3a6c526ca4",
        "colab": {
          "base_uri": "https://localhost:8080/",
          "height": 51
        }
      },
      "source": [
        "M = tf.complex(tf.random.uniform((2, 2)), tf.random.uniform((2, 2)))\n",
        "M.numpy()"
      ],
      "execution_count": 11,
      "outputs": [
        {
          "output_type": "execute_result",
          "data": {
            "text/plain": [
              "array([[0.37151647+0.3203796j , 0.01461518+0.8826269j ],\n",
              "       [0.86200917+0.57722914j, 0.26748002+0.48068213j]], dtype=complex64)"
            ]
          },
          "metadata": {
            "tags": []
          },
          "execution_count": 11
        }
      ]
    },
    {
      "cell_type": "markdown",
      "metadata": {
        "id": "Lnx8EmUsuDUA",
        "colab_type": "text"
      },
      "source": [
        "However, close inspection shows only `4` distinct non-zero real numbers in the constructed adjoint matrix. "
      ]
    },
    {
      "cell_type": "code",
      "metadata": {
        "id": "-haDqeuNtcLI",
        "colab_type": "code",
        "outputId": "241137ce-b6a5-4bbd-98a5-0a4a6e0d1f1d",
        "colab": {
          "base_uri": "https://localhost:8080/",
          "height": 51
        }
      },
      "source": [
        "H = (M + tf.linalg.adjoint(M))\n",
        "H.numpy()"
      ],
      "execution_count": 12,
      "outputs": [
        {
          "output_type": "execute_result",
          "data": {
            "text/plain": [
              "array([[0.74303293+0.j        , 0.87662435+0.30539775j],\n",
              "       [0.87662435-0.30539775j, 0.53496003+0.j        ]], dtype=complex64)"
            ]
          },
          "metadata": {
            "tags": []
          },
          "execution_count": 12
        }
      ]
    },
    {
      "cell_type": "markdown",
      "metadata": {
        "id": "UTY-fxDbuoDB",
        "colab_type": "text"
      },
      "source": [
        "The reason can be understood in that Hermitian constraint is symmetry constraint on the real part, and an anti-symmetry constraint on the imaginary part.\n",
        "\n",
        "The symmetry constraint eliminates almost half our real numbers, since the upper and lower triangles of the real part are identical:\n",
        "`Real{H}[i][j] = Real{H*}[i][j] = Real{H}[j][i]`.\n",
        "\n",
        "It also eliminates the diagonal of the imaginary part, and makes the upper and lower triangles negatives of one another:\n",
        "`Imag{H}[i][j] = Imag{H*}[i][j] = -Imag{H}[j][i]`.\n"
      ]
    },
    {
      "cell_type": "code",
      "metadata": {
        "id": "rtIb7l0CvzfP",
        "colab_type": "code",
        "colab": {}
      },
      "source": [
        "realH = tf.math.real(H)\n",
        "assert (realH[0][1] == realH[1][0]).numpy()\n",
        "imagH = tf.math.imag(H)\n",
        "assert (imagH[0][1] == -imagH[1][0]).numpy()\n",
        "assert (imagH[0][0] == 0.).numpy()"
      ],
      "execution_count": 0,
      "outputs": []
    },
    {
      "cell_type": "markdown",
      "metadata": {
        "id": "JRG-7H2EwY1G",
        "colab_type": "text"
      },
      "source": [
        "The entire space of complex hermitian matrices can be parameterized by just `NxN` real numbers. \n",
        "\n",
        "That is, given an `NxN` matrix, we can use the diagonal and upper triangle for the real part, and the lower triangle for the imaginary part.\n",
        "\n",
        "We can codify that as the following:"
      ]
    },
    {
      "cell_type": "code",
      "metadata": {
        "id": "CUWNqGrEeoX9",
        "colab_type": "code",
        "colab": {}
      },
      "source": [
        "@tf.function\n",
        "def hermitian_from_real(m):\n",
        "  def hermitian_element(m, idx, jdx):\n",
        "    if idx == jdx:\n",
        "      return tf.complex(m[idx][jdx], 0.)\n",
        "    elif idx < jdx:\n",
        "      return tf.complex(m[idx][jdx], m[jdx][idx])\n",
        "    else:\n",
        "      return tf.complex(m[jdx][idx], -m[idx][jdx])\n",
        "  N = m.shape[0]\n",
        "  return tf.convert_to_tensor([[hermitian_element(m, idx, jdx) for idx in range(N)] for jdx in range(N)])\n",
        "\n",
        "H = hermitian_from_real(tf.random.normal((3, 3)))\n",
        "assert tf.reduce_all(H == tf.linalg.adjoint(H))"
      ],
      "execution_count": 0,
      "outputs": []
    },
    {
      "cell_type": "markdown",
      "metadata": {
        "id": "cXRV2sY3zXnt",
        "colab_type": "text"
      },
      "source": [
        "We can construct just the `iH` in the unitary `U = exp{iH}` similarly, by making use of the fact `real{iH} = -imag{H}` and `imag{iH} = real{H}`, leaving us with a parameterization of unitary matrices from `NxN` real matrices. \n",
        "\n",
        "We can verify that the resulting `U* U` is quite close to `I`."
      ]
    },
    {
      "cell_type": "code",
      "metadata": {
        "id": "fcOPULYBzx9L",
        "colab_type": "code",
        "outputId": "6425d9e0-c66a-4628-862f-b2e9a53742e3",
        "colab": {
          "base_uri": "https://localhost:8080/",
          "height": 85
        }
      },
      "source": [
        "@tf.function\n",
        "def unitary_from_real(m):\n",
        "  def ihermitian_element(m, idx, jdx):\n",
        "    if idx == jdx:\n",
        "      return tf.complex(0., m[idx][jdx])\n",
        "    elif idx < jdx:\n",
        "      return tf.complex(-m[jdx][idx], m[idx][jdx])\n",
        "    else:\n",
        "      return tf.complex(m[idx][jdx], m[jdx][idx])\n",
        "  N = m.shape[0]\n",
        "  return tf.linalg.expm([[ihermitian_element(m, idx, jdx) for idx in range(N)] for jdx in range(N)])\n",
        "\n",
        "U = unitary_from_real(tf.random.normal((3, 3)))\n",
        "tf.abs(tf.complex(tf.eye(3), tf.zeros((3, 3))) - tf.matmul(tf.linalg.adjoint(U), U))"
      ],
      "execution_count": 54,
      "outputs": [
        {
          "output_type": "execute_result",
          "data": {
            "text/plain": [
              "<tf.Tensor: id=2451686, shape=(3, 3), dtype=float32, numpy=\n",
              "array([[1.1920929e-07, 1.6049042e-07, 1.4901161e-08],\n",
              "       [1.6049042e-07, 1.7881393e-07, 8.9426365e-08],\n",
              "       [7.4505806e-09, 7.0780516e-08, 6.1249132e-08]], dtype=float32)>"
            ]
          },
          "metadata": {
            "tags": []
          },
          "execution_count": 54
        }
      ]
    },
    {
      "cell_type": "markdown",
      "metadata": {
        "id": "qkvoUWud1dK6",
        "colab_type": "text"
      },
      "source": [
        "# Learn Pauli Spin Matrices\n",
        "\n",
        "A famous collection of unitary matrices are [the Pauli matrices](https://en.wikipedia.org/wiki/Pauli_matrices). Let's see if we can learn the Pauli matrices by optimizing an underlying hermitian matrix."
      ]
    },
    {
      "cell_type": "code",
      "metadata": {
        "id": "vbkK2Jwh15Ef",
        "colab_type": "code",
        "outputId": "8b0c5195-a185-4fe6-f352-fa9ce8f42446",
        "colab": {
          "base_uri": "https://localhost:8080/",
          "height": 119
        }
      },
      "source": [
        "pauli_matrices = [\n",
        "          tf.complex([[0., 1.,], [1., 0.,]], tf.zeros((2, 2))),\n",
        "          tf.complex(tf.zeros((2, 2)), [[0., -1.,], [1., 0.,]]),\n",
        "          tf.complex([[1., 0.,], [0., -1.]], tf.zeros((2, 2)))\n",
        "]\n",
        "for p  in pauli_matrices:\n",
        "  print(p.numpy())"
      ],
      "execution_count": 55,
      "outputs": [
        {
          "output_type": "stream",
          "text": [
            "[[0.+0.j 1.+0.j]\n",
            " [1.+0.j 0.+0.j]]\n",
            "[[0.+0.j 0.-1.j]\n",
            " [0.+1.j 0.+0.j]]\n",
            "[[ 1.+0.j  0.+0.j]\n",
            " [ 0.+0.j -1.+0.j]]\n"
          ],
          "name": "stdout"
        }
      ]
    },
    {
      "cell_type": "code",
      "metadata": {
        "id": "UNZvb3zAn_So",
        "colab_type": "code",
        "colab": {}
      },
      "source": [
        "optimizer = tf.keras.optimizers.Adam(learning_rate=0.01)"
      ],
      "execution_count": 0,
      "outputs": []
    },
    {
      "cell_type": "markdown",
      "metadata": {
        "id": "t-pTY5taPmuV",
        "colab_type": "text"
      },
      "source": [
        "The following functions will find an optimal hermitian matrix to produce a desired unitary matrix."
      ]
    },
    {
      "cell_type": "code",
      "metadata": {
        "id": "fsqUF05NM8p3",
        "colab_type": "code",
        "colab": {}
      },
      "source": [
        "def unitary_loss(m, t):\n",
        "  diff = unitary_from_real(m) - t\n",
        "  return tf.reduce_sum(tf.math.real(tf.math.conj(diff) * diff))\n",
        "\n",
        "def learn_real_for_unitary(t):\n",
        "  m = tf.Variable(tf.random.normal((2, 2)))\n",
        "  for _ in range(1000):\n",
        "    with tf.GradientTape() as tape:\n",
        "      loss = unitary_loss(m, t)\n",
        "    g = tape.gradient(loss, [m])\n",
        "    optimizer.apply_gradients(zip(g, [m]))\n",
        "  return m\n"
      ],
      "execution_count": 0,
      "outputs": []
    },
    {
      "cell_type": "markdown",
      "metadata": {
        "id": "6itxR5-5PxA4",
        "colab_type": "text"
      },
      "source": [
        "Optimizing with respect to the Pauli matrices gives the following results:"
      ]
    },
    {
      "cell_type": "code",
      "metadata": {
        "id": "zDP2Bf3_LIgK",
        "colab_type": "code",
        "colab": {
          "base_uri": "https://localhost:8080/",
          "height": 629
        },
        "outputId": "b3cef909-d063-4939-c977-8a060c105fc8"
      },
      "source": [
        "for p in pauli_matrices:\n",
        "  print('\\n\\nLearning Pauli matrix =\\n ', p.numpy())\n",
        "  m = learn_real_for_unitary(p)\n",
        "  print('Final loss = ', unitary_loss(m, p).numpy())\n",
        "  print('Final Hermitian = \\n', hermitian_from_real(m).numpy())\n",
        "  print('Final unitary = \\n', unitary_from_real(m).numpy())\n"
      ],
      "execution_count": 59,
      "outputs": [
        {
          "output_type": "stream",
          "text": [
            "\n",
            "\n",
            "Learning Pauli matrix =\n",
            "  [[0.+0.j 1.+0.j]\n",
            " [1.+0.j 0.+0.j]]\n",
            "Final loss =  6.5529545e-14\n",
            "Final Hermitian = \n",
            " [[ 1.5707964+0.000000e+00j -1.5707965+6.594352e-08j]\n",
            " [-1.5707965-6.594352e-08j  1.5707963+0.000000e+00j]]\n",
            "Final unitary = \n",
            " [[4.703994e-08-1.6739145e-07j 1.000000e+00-2.9802322e-08j]\n",
            " [9.999999e-01-8.9406967e-08j 5.278416e-09-1.1034670e-07j]]\n",
            "\n",
            "\n",
            "Learning Pauli matrix =\n",
            "  [[0.+0.j 0.-1.j]\n",
            " [0.+1.j 0.+0.j]]\n",
            "Final loss =  5.659874e-14\n",
            "Final Hermitian = \n",
            " [[-1.5707964e+00+0.j         7.3905952e-08-1.5707965j]\n",
            " [ 7.3905952e-08+1.5707965j -1.5707964e+00+0.j       ]]\n",
            "Final unitary = \n",
            " [[ 5.2294265e-08+5.7548583e-08j -8.9406967e-08-1.0000000e+00j]\n",
            " [ 2.9802322e-08+1.0000001e+00j  7.9176345e-09+1.6552005e-07j]]\n",
            "\n",
            "\n",
            "Learning Pauli matrix =\n",
            "  [[ 1.+0.j  0.+0.j]\n",
            " [ 0.+0.j -1.+0.j]]\n",
            "Final loss =  3.974162e-13\n",
            "Final Hermitian = \n",
            " [[-5.2055166e-25+0.00000e+00j  1.4798932e-25+1.55639e-25j]\n",
            " [ 1.4798932e-25-1.55639e-25j -3.1415920e+00+0.00000e+00j]]\n",
            "Final unitary = \n",
            " [[ 1.0000000e+00-5.2055166e-25j  9.4212925e-26+9.9082902e-26j]\n",
            " [ 9.4212968e-26-9.9082871e-26j -1.0000000e+00-6.3040955e-07j]]\n"
          ],
          "name": "stdout"
        }
      ]
    },
    {
      "cell_type": "markdown",
      "metadata": {
        "id": "ctz7nuHSNiw7",
        "colab_type": "text"
      },
      "source": [
        "We can see from the above that the Hermitian matrices corresponding to the Pauli matrices are:\n",
        "```\n",
        "[[ sqrt(2),   sqrt(2)],\n",
        " [ sqrt(2),  -sqrt(2)]],\n",
        "```\n",
        "```\n",
        "[[ -sqrt(2),   -i sqrt(2)],\n",
        " [ i sqrt(2),  -sqrt(2)]],\n",
        "```\n",
        "and\n",
        "```\n",
        "[[ 0,  0],\n",
        " [ 0,  -pi]],\n",
        "```\n",
        "respectively."
      ]
    },
    {
      "cell_type": "code",
      "metadata": {
        "id": "ubFKrXNbhdNg",
        "colab_type": "code",
        "colab": {}
      },
      "source": [
        ""
      ],
      "execution_count": 0,
      "outputs": []
    }
  ]
}