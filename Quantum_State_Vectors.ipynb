{
  "nbformat": 4,
  "nbformat_minor": 0,
  "metadata": {
    "colab": {
      "name": "Quantum State Vectors",
      "provenance": [],
      "collapsed_sections": [],
      "include_colab_link": true
    },
    "kernelspec": {
      "name": "python3",
      "display_name": "Python 3"
    }
  },
  "cells": [
    {
      "cell_type": "markdown",
      "metadata": {
        "id": "view-in-github",
        "colab_type": "text"
      },
      "source": [
        "<a href=\"https://colab.research.google.com/github/plediii/rnn-quantum-circuits/blob/master/Quantum_State_Vectors.ipynb\" target=\"_parent\"><img src=\"https://colab.research.google.com/assets/colab-badge.svg\" alt=\"Open In Colab\"/></a>"
      ]
    },
    {
      "cell_type": "markdown",
      "metadata": {
        "id": "mw_zZdWQimQ6",
        "colab_type": "text"
      },
      "source": [
        "# Overview\n",
        "\n",
        "Here I'm going to demonstrate the construction of quantum state vectors in tensorflow. First, let's import tensorflow."
      ]
    },
    {
      "cell_type": "code",
      "metadata": {
        "id": "55dJwaOrisBR",
        "colab_type": "code",
        "colab": {
          "base_uri": "https://localhost:8080/",
          "height": 34
        },
        "outputId": "be332d31-1f6b-48d5-f02d-8bac76ce7d84"
      },
      "source": [
        "from __future__ import absolute_import, division, print_function, unicode_literals\n",
        "\n",
        "try:\n",
        "  %tensorflow_version 2.x\n",
        "except Exception:\n",
        "  print('Failed to upgrade tensorflow')\n",
        "  pass\n",
        "\n",
        "import tensorflow as tf\n",
        "import tensorflow_datasets as tfds\n",
        "\n",
        "print(tf.__version__)"
      ],
      "execution_count": 2,
      "outputs": [
        {
          "output_type": "stream",
          "text": [
            "2.0.0\n"
          ],
          "name": "stdout"
        }
      ]
    },
    {
      "cell_type": "markdown",
      "metadata": {
        "id": "DCZ0ILMdk9Wc",
        "colab_type": "text"
      },
      "source": [
        "We can make random complex vectors easily. However, these vectors are not quantum vectors, because they're not normalized. \n",
        "To make a random 2 dimensional column vector, we can do the following:"
      ]
    },
    {
      "cell_type": "code",
      "metadata": {
        "id": "d8LUUY-ditK-",
        "colab_type": "code",
        "colab": {
          "base_uri": "https://localhost:8080/",
          "height": 68
        },
        "outputId": "1641449a-6409-4832-e0f9-c080c3f49812"
      },
      "source": [
        "x = tf.complex(tf.random.normal((2, 1)), tf.random.normal((2, 1)))\n",
        "x"
      ],
      "execution_count": 18,
      "outputs": [
        {
          "output_type": "execute_result",
          "data": {
            "text/plain": [
              "<tf.Tensor: id=93, shape=(2, 1), dtype=complex64, numpy=\n",
              "array([[-0.39066896-0.6810974j],\n",
              "       [ 1.3874692 +0.8715698j]], dtype=complex64)>"
            ]
          },
          "metadata": {
            "tags": []
          },
          "execution_count": 18
        }
      ]
    },
    {
      "cell_type": "markdown",
      "metadata": {
        "id": "GMp3WgQ-lJg5",
        "colab_type": "text"
      },
      "source": [
        "Complex numbers in python are presented as the *real part* plus the *imaginary part* times `j`. \n",
        "\n",
        "To make *normalized* vectors, we first need to define a scalar, or dot product, between two vectors `a` and `b`. "
      ]
    },
    {
      "cell_type": "code",
      "metadata": {
        "id": "6AJoAesOk4Mb",
        "colab_type": "code",
        "colab": {}
      },
      "source": [
        "def dot(a, b):\n",
        "  \"\"\"Scalar product of a and b\"\"\"\n",
        "  return tf.reduce_sum(tf.math.conj(a) * b)"
      ],
      "execution_count": 0,
      "outputs": []
    },
    {
      "cell_type": "markdown",
      "metadata": {
        "id": "CPJg7Ml0mmbH",
        "colab_type": "text"
      },
      "source": [
        "When we dot a vector with itself, we call it the square of the vector. \n",
        "\n",
        "The norm of a vector is the square root of its square. The norm of a vector is always real (the imaginary part is zero)."
      ]
    },
    {
      "cell_type": "code",
      "metadata": {
        "id": "L5ghO59GlzEv",
        "colab_type": "code",
        "colab": {
          "base_uri": "https://localhost:8080/",
          "height": 34
        },
        "outputId": "68347a17-0e29-412f-ff96-5ba447a9e8c1"
      },
      "source": [
        "def norm(x):\n",
        "  \"\"\"Return the norm of vector x\"\"\"\n",
        "  return tf.sqrt(dot(x, x))\n",
        "\n",
        "assert tf.math.imag(norm(x).numpy()) == 0\n",
        "tf.math.real(norm(x)).numpy()"
      ],
      "execution_count": 35,
      "outputs": [
        {
          "output_type": "execute_result",
          "data": {
            "text/plain": [
              "1.8169261"
            ]
          },
          "metadata": {
            "tags": []
          },
          "execution_count": 35
        }
      ]
    },
    {
      "cell_type": "markdown",
      "metadata": {
        "id": "CMjxr0OtmaqN",
        "colab_type": "text"
      },
      "source": [
        "To make a vector normalized, we divide the vector by its norm."
      ]
    },
    {
      "cell_type": "code",
      "metadata": {
        "id": "VUBgY7Pyo5Q5",
        "colab_type": "code",
        "colab": {}
      },
      "source": [
        "def normalized(x):\n",
        "  \"\"\"Return the normalized vector\"\"\"\n",
        "  return x / norm(x)"
      ],
      "execution_count": 0,
      "outputs": []
    },
    {
      "cell_type": "code",
      "metadata": {
        "id": "zZPxNNnUmaAr",
        "colab_type": "code",
        "colab": {
          "base_uri": "https://localhost:8080/",
          "height": 34
        },
        "outputId": "cbde76fb-911a-4bd4-d6e2-87f3f628b4b9"
      },
      "source": [
        "x_normalized = normalized(x)\n",
        "tf.math.real(norm(x_normalized)).numpy()"
      ],
      "execution_count": 37,
      "outputs": [
        {
          "output_type": "execute_result",
          "data": {
            "text/plain": [
              "1.0"
            ]
          },
          "metadata": {
            "tags": []
          },
          "execution_count": 37
        }
      ]
    },
    {
      "cell_type": "markdown",
      "metadata": {
        "id": "mXOYXDqmoqMl",
        "colab_type": "text"
      },
      "source": [
        "And that's it. Now we can make random quantum vectors all day long."
      ]
    },
    {
      "cell_type": "code",
      "metadata": {
        "id": "J6F_ZlqjotC5",
        "colab_type": "code",
        "colab": {}
      },
      "source": [
        "def random_quantum_vector(n):\n",
        "  \"\"\"Create a random quantum vector of dimension Nx1\"\"\"\n",
        "  return normalized(tf.complex(tf.random.normal((n, 1)), tf.random.normal((n, 1))))"
      ],
      "execution_count": 0,
      "outputs": []
    },
    {
      "cell_type": "code",
      "metadata": {
        "id": "8drbWthBpKZ4",
        "colab_type": "code",
        "colab": {
          "base_uri": "https://localhost:8080/",
          "height": 68
        },
        "outputId": "5c4e1d68-a76f-4dcf-c86d-ce1274e92b20"
      },
      "source": [
        "random_quantum_vector(3).numpy()"
      ],
      "execution_count": 39,
      "outputs": [
        {
          "output_type": "execute_result",
          "data": {
            "text/plain": [
              "array([[ 0.35990405-0.69459295j],\n",
              "       [ 0.07593687+0.5576797j ],\n",
              "       [-0.25308618-0.0847581j ]], dtype=complex64)"
            ]
          },
          "metadata": {
            "tags": []
          },
          "execution_count": 39
        }
      ]
    },
    {
      "cell_type": "code",
      "metadata": {
        "id": "iS8Hd7cRpRdp",
        "colab_type": "code",
        "colab": {}
      },
      "source": [
        ""
      ],
      "execution_count": 0,
      "outputs": []
    }
  ]
}